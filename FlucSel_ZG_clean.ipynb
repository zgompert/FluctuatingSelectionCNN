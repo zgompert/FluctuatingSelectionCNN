{
 "cells": [
  {
   "cell_type": "code",
   "execution_count": 2,
   "id": "755a6bb5",
   "metadata": {},
   "outputs": [],
   "source": [
    "### loading libraries\n",
    "import numpy as np\n",
    "import pandas as pd\n",
    "import tensorflow as tf\n",
    "from tensorflow import keras\n",
    "from keras.preprocessing.image import ImageDataGenerator\n",
    "from keras.utils import np_utils\n",
    "from tensorflow.keras import layers\n",
    "from sklearn.model_selection import train_test_split"
   ]
  },
  {
   "cell_type": "code",
   "execution_count": 29,
   "id": "82f6e4c6",
   "metadata": {
    "scrolled": true
   },
   "outputs": [],
   "source": [
    "# present working directory\n",
    "%pwd\n",
    "# changing directory to the data folder\n",
    "%cd /uufs/chpc.utah.edu/common/home/gompert-group4/projects/fluctCNN/CNN_data2"
   ]
  },
  {
   "cell_type": "code",
   "execution_count": 3,
   "id": "52dc7dd6",
   "metadata": {},
   "outputs": [],
   "source": [
    "import os\n",
    "directory_path ='/uufs/chpc.utah.edu/common/home/gompert-group4/projects/fluctCNN/CNN_data2'"
   ]
  },
  {
   "cell_type": "code",
   "execution_count": 21,
   "id": "594508e4",
   "metadata": {
    "scrolled": true
   },
   "outputs": [],
   "source": [
    "### making a list of all csv files\n",
    "csv_files = [file for file in os.listdir(directory_path) if file.endswith('.csv')]\n",
    "#print(len(csv_files))"
   ]
  },
  {
   "cell_type": "code",
   "execution_count": 20,
   "id": "48f1c2cc",
   "metadata": {
    "scrolled": true
   },
   "outputs": [],
   "source": [
    "# read the list of csv files into pandas dataframe\n",
    "df=pd.read_csv(csv_files[1], header=None, sep=' ', dtype='float32')\n",
    "#df"
   ]
  },
  {
   "cell_type": "code",
   "execution_count": 11,
   "id": "fc109d25",
   "metadata": {},
   "outputs": [],
   "source": [
    "### processing the list of csv files to make arrays of input matrices and extracting output labels \n",
    "# Load the CSV matrices from dataframe to numpy arrays\n",
    "matrices = []\n",
    "out_vec = []\n",
    "for file in csv_files:\n",
    "    df = pd.read_csv(file, header=None, sep=' ', dtype='float32')\n",
    "    #df = df.iloc[1:, 1:].values\n",
    "    #df = df.astype('float32')\n",
    "    matrix = df\n",
    "    matrices.append(matrix)\n",
    "    # appending first five letters to out_vec as labels\n",
    "    label = file[:5]\n",
    "    out_vec.append(label)\n",
    "input_arrays = np.stack(matrices)\n",
    "# reshaping input data arrays\n",
    "input_arr = np.reshape(input_arrays, (60000, 10, 20, 1))\n",
    "input_arr.shape"
   ]
  },
  {
   "cell_type": "code",
   "execution_count": 22,
   "id": "b324d2c7",
   "metadata": {},
   "outputs": [],
   "source": [
    "### Processing Labels\n",
    "labels =out_vec\n",
    "label_mapping = {label: index for index, label in enumerate(set(labels))}\n",
    "#print(label_mapping)\n",
    "integer_labels = np.array([label_mapping[label] for label in labels])\n",
    "categorical_labels = tf.one_hot(integer_labels, depth=len(label_mapping))\n",
    "out_labels = np.stack(categorical_labels)\n",
    "#out_labels.shape"
   ]
  },
  {
   "cell_type": "code",
   "execution_count": 19,
   "id": "33c1ce1f",
   "metadata": {
    "scrolled": true
   },
   "outputs": [],
   "source": [
    "### dividing input and label data into training, testingsets\n",
    "input_train, input_test, output_train, output_test = train_test_split(input_arr, out_labels, test_size=0.2, random_state=100)"
   ]
  },
  {
   "cell_type": "code",
   "execution_count": null,
   "id": "edde167e",
   "metadata": {},
   "outputs": [],
   "source": [
    "### CNN\n",
    "model = keras.Sequential()\n",
    "model.add(layers.Conv2D(32, kernel_size=(4, 1), strides=(2, 2), padding =\"same\", activation=\"relu\", input_shape=(10, 20, 1)))\n",
    "model.add(layers.Dropout(0.25))\n",
    "model.add(layers.Conv2D(128, kernel_size=(2, 2), activation=\"relu\"))\n",
    "#model.add(layers.Dropout(0.25)) \n",
    "model.add(layers.MaxPooling2D(pool_size=(2, 2)))\n",
    "model.add(layers.Flatten())\n",
    "model.add(layers.Dense(64, activation=\"relu\"))\n",
    "model.add(layers.Dense(2, activation=\"softmax\"))\n",
    "\n",
    "optimizer = keras.optimizers.Adam(learning_rate=0.0001)\n",
    "# Compile the model\n",
    "model.compile(optimizer=optimizer, loss=\"binary_crossentropy\", metrics=[\"accuracy\"])\n",
    "\n",
    "# Train the model\n",
    "model.fit(input_train, output_train, batch_size=32, epochs=10)#, validation_split=0.2)\n",
    "\n",
    "# Evaluate the model on the test set\n",
    "loss, accuracy = model.evaluate(input_test, output_test)\n",
    "print(\"Test Loss:\", loss)\n",
    "print(\"Test Accuracy:\", accuracy)"
   ]
  }
 ],
 "metadata": {
  "kernelspec": {
   "display_name": "Python 3 (ipykernel)",
   "language": "python",
   "name": "python3"
  },
  "language_info": {
   "codemirror_mode": {
    "name": "ipython",
    "version": 3
   },
   "file_extension": ".py",
   "mimetype": "text/x-python",
   "name": "python",
   "nbconvert_exporter": "python",
   "pygments_lexer": "ipython3",
   "version": "3.9.7"
  }
 },
 "nbformat": 4,
 "nbformat_minor": 5
}
