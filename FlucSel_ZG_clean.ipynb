{
 "cells": [
  {
   "cell_type": "code",
   "execution_count": 17,
   "id": "7646f847",
   "metadata": {},
   "outputs": [
    {
     "name": "stderr",
     "output_type": "stream",
     "text": [
      "Matplotlib created a temporary config/cache directory at /scratch/local/u6031121/12953803/matplotlib-b489c__9 because the default path (/home/jovyan/.cache/matplotlib) is not a writable directory; it is highly recommended to set the MPLCONFIGDIR environment variable to a writable directory, in particular to speed up the import of Matplotlib and to better support multiprocessing.\n"
     ]
    }
   ],
   "source": [
    "### loading libraries\n",
    "import numpy as np\n",
    "import pandas as pd\n",
    "import tensorflow as tf\n",
    "from tensorflow import keras\n",
    "from keras.preprocessing.image import ImageDataGenerator\n",
    "from keras.utils import np_utils\n",
    "from tensorflow.keras import layers\n",
    "from sklearn.model_selection import train_test_split\n",
    "import os\n",
    "from keras.callbacks import EarlyStopping\n",
    "import matplotlib.pyplot as plt\n",
    "import seaborn as sns\n",
    "from sklearn.metrics import confusion_matrix"
   ]
  },
  {
   "cell_type": "code",
   "execution_count": 2,
   "id": "8bf57219",
   "metadata": {},
   "outputs": [
    {
     "name": "stdout",
     "output_type": "stream",
     "text": [
      "GPU is available\n",
      "Device name: /physical_device:GPU:0\n"
     ]
    }
   ],
   "source": [
    "# Check available devices\n",
    "devices = tf.config.list_physical_devices('GPU')\n",
    "\n",
    "if len(devices) > 0:\n",
    "    print(\"GPU is available\")\n",
    "    for device in devices:\n",
    "        print(\"Device name:\", device.name)\n",
    "else:\n",
    "    print(\"No GPU is available\")"
   ]
  },
  {
   "cell_type": "markdown",
   "id": "be167a8b",
   "metadata": {},
   "source": [
    "## Training data"
   ]
  },
  {
   "cell_type": "code",
   "execution_count": 3,
   "id": "95e94e3d",
   "metadata": {},
   "outputs": [
    {
     "name": "stdout",
     "output_type": "stream",
     "text": [
      "/uufs/chpc.utah.edu/common/home/gompert-group4/projects/fluctCNN/DatafromUpdataCodeAugust25th/Trn\n"
     ]
    },
    {
     "data": {
      "text/plain": [
       "(45000, 10, 20, 1)"
      ]
     },
     "execution_count": 3,
     "metadata": {},
     "output_type": "execute_result"
    }
   ],
   "source": [
    "############################ TRAINING DATA \n",
    "# changing directory to the data folder\n",
    "%cd /uufs/chpc.utah.edu/common/home/gompert-group4/projects/fluctCNN/DatafromUpdataCodeAugust25th/Trn/\n",
    "\n",
    "directory_path ='/uufs/chpc.utah.edu/common/home/gompert-group4/projects/fluctCNN/DatafromUpdataCodeAugust25th/Trn/'\n",
    "### making a list of all csv files\n",
    "csv_files = [file for file in os.listdir(directory_path) if file.endswith('.csv')]\n",
    "\n",
    "### processing the list of csv files to make arrays of input matrices and extracting output labels \n",
    "matrices = []\n",
    "out_vec = []\n",
    "for file in csv_files:\n",
    "    df = pd.read_csv(file, header=None, sep=' ', dtype='float32')\n",
    "    matrices.append(df)\n",
    "    # appending first five letters to out_vec as labels\n",
    "    label = file[0:8]\n",
    "    out_vec.append(label)\n",
    "input_arrays = np.stack(matrices)\n",
    "inDa_trn = input_arrays.reshape((45000, 10, 20, 1))\n",
    "inDa_trn.shape"
   ]
  },
  {
   "cell_type": "code",
   "execution_count": 4,
   "id": "fcb10ea8",
   "metadata": {},
   "outputs": [
    {
     "data": {
      "text/plain": [
       "(45000, 3)"
      ]
     },
     "execution_count": 4,
     "metadata": {},
     "output_type": "execute_result"
    }
   ],
   "source": [
    "######### TRAINIG labels\n",
    "labels =out_vec\n",
    "# converting string values to integer calsses\n",
    "from sklearn.preprocessing import LabelEncoder\n",
    "# Initialize a LabelEncoder object\n",
    "label_encoder = LabelEncoder()\n",
    "# Fit the LabelEncoder to your string list and transform the string values into integer classes\n",
    "label_int = label_encoder.fit_transform(labels)\n",
    "#from keras.utils import to_categorical\n",
    "from tensorflow.keras.utils import to_categorical\n",
    "ouLa_trn =to_categorical(label_int)\n",
    "ouLa_trn.shape\n",
    "#print(ouLa_trn)\n",
    "ouLa_trn.shape"
   ]
  },
  {
   "cell_type": "markdown",
   "id": "9b478579",
   "metadata": {},
   "source": [
    "## Test data"
   ]
  },
  {
   "cell_type": "code",
   "execution_count": 5,
   "id": "02db96b0",
   "metadata": {},
   "outputs": [
    {
     "name": "stdout",
     "output_type": "stream",
     "text": [
      "/uufs/chpc.utah.edu/common/home/gompert-group4/projects/fluctCNN/DatafromUpdataCodeAugust25th/Tst\n"
     ]
    },
    {
     "data": {
      "text/plain": [
       "(15000, 10, 20, 1)"
      ]
     },
     "execution_count": 5,
     "metadata": {},
     "output_type": "execute_result"
    }
   ],
   "source": [
    "############################ TEST DATA \n",
    "# changing directory to the data folder\n",
    "%cd /uufs/chpc.utah.edu/common/home/gompert-group4/projects/fluctCNN/DatafromUpdataCodeAugust25th/Tst/\n",
    "# importing test set\n",
    "directory_path ='/uufs/chpc.utah.edu/common/home/gompert-group4/projects/fluctCNN/DatafromUpdataCodeAugust25th/Tst/'\n",
    "### making a list of all csv files\n",
    "csv_files_t = [file for file in os.listdir(directory_path) if file.endswith('.csv')]\n",
    "\n",
    "### processing the list of csv files to make arrays of input matrices and extracting output labels \n",
    "matrices = []\n",
    "out_vec = []\n",
    "for file in csv_files_t:\n",
    "    df = pd.read_csv(file, header=None, sep=' ', dtype='float32')\n",
    "    matrices.append(df)\n",
    "    # appending first five letters to out_vec as labels\n",
    "    label = file[0:8]\n",
    "    out_vec.append(label)\n",
    "input_arrays = np.stack(matrices)\n",
    "inDa_tst = input_arrays.reshape((15000, 10, 20, 1))\n",
    "inDa_tst.dtype\n",
    "inDa_tst.shape"
   ]
  },
  {
   "cell_type": "code",
   "execution_count": 6,
   "id": "129028fe",
   "metadata": {},
   "outputs": [
    {
     "data": {
      "text/plain": [
       "(15000, 3)"
      ]
     },
     "execution_count": 6,
     "metadata": {},
     "output_type": "execute_result"
    }
   ],
   "source": [
    "######### TEST labels\n",
    "labels =out_vec\n",
    "# converting string values to integer calsses\n",
    "from sklearn.preprocessing import LabelEncoder\n",
    "# Initialize a LabelEncoder object\n",
    "label_encoder = LabelEncoder()\n",
    "# Fit the LabelEncoder to your string list and transform the string values into integer classes\n",
    "label_int = label_encoder.fit_transform(labels)\n",
    "#from keras.utils import to_categorical\n",
    "from tensorflow.keras.utils import to_categorical\n",
    "ouLa_tst =to_categorical(label_int)\n",
    "ouLa_tst.shape"
   ]
  },
  {
   "cell_type": "markdown",
   "id": "791d0a8f",
   "metadata": {},
   "source": [
    "## Validation data"
   ]
  },
  {
   "cell_type": "markdown",
   "id": "005c5be3",
   "metadata": {},
   "source": [
    "#### Independent validation set generated afresh from the simulation script"
   ]
  },
  {
   "cell_type": "code",
   "execution_count": 7,
   "id": "7ffdba8c",
   "metadata": {},
   "outputs": [
    {
     "name": "stdout",
     "output_type": "stream",
     "text": [
      "/uufs/chpc.utah.edu/common/home/gompert-group4/projects/fluctCNN/DatafromUpdataCodeAugust25th/val\n"
     ]
    },
    {
     "data": {
      "text/plain": [
       "(3000, 10, 20, 1)"
      ]
     },
     "execution_count": 7,
     "metadata": {},
     "output_type": "execute_result"
    }
   ],
   "source": [
    "############################ VALIDATION DATA \n",
    "# changing directory to the data folder\n",
    "%cd /uufs/chpc.utah.edu/common/home/gompert-group4/projects/fluctCNN/DatafromUpdataCodeAugust25th/val/\n",
    "# importing validation set\n",
    "directory_path ='/uufs/chpc.utah.edu/common/home/gompert-group4/projects/fluctCNN/DatafromUpdataCodeAugust25th/val/'\n",
    "### making a list of all csv files\n",
    "csv_files_v = [file for file in os.listdir(directory_path) if file.endswith('.csv')]\n",
    "#print(len(csv_files))\n",
    "### processing the list of csv files to make arrays of input matrices and extracting output labels \n",
    "matrices = []\n",
    "out_vec = []\n",
    "for file in csv_files_v:\n",
    "    df = pd.read_csv(file, header=None, sep=' ', dtype='float32')\n",
    "    matrices.append(df)\n",
    "    # appending first five letters to out_vec as labels\n",
    "    label = file[:8]\n",
    "    out_vec.append(label)\n",
    "input_arrays = np.stack(matrices, axis=0)\n",
    "inDa_val = input_arrays.reshape((3000, 10, 20, 1))\n",
    "inDa_val.dtype\n",
    "inDa_val.shape"
   ]
  },
  {
   "cell_type": "code",
   "execution_count": 8,
   "id": "3d1a87f3",
   "metadata": {},
   "outputs": [
    {
     "data": {
      "text/plain": [
       "(3000, 3)"
      ]
     },
     "execution_count": 8,
     "metadata": {},
     "output_type": "execute_result"
    }
   ],
   "source": [
    "######### VALIDATION labels\n",
    "labels =out_vec\n",
    "# converting string values to integer calsses\n",
    "from sklearn.preprocessing import LabelEncoder\n",
    "# Initialize a LabelEncoder object\n",
    "label_encoder = LabelEncoder()\n",
    "# Fit the LabelEncoder to your string list and transform the string values into integer classes\n",
    "label_int = label_encoder.fit_transform(labels)\n",
    "#from keras.utils import to_categorical\n",
    "from tensorflow.keras.utils import to_categorical\n",
    "ouLa_val =to_categorical(label_int)\n",
    "ouLa_val.shape"
   ]
  },
  {
   "cell_type": "markdown",
   "id": "27151bdc",
   "metadata": {},
   "source": [
    "# CNN model"
   ]
  },
  {
   "cell_type": "code",
   "execution_count": 84,
   "id": "24d41342",
   "metadata": {},
   "outputs": [
    {
     "name": "stdout",
     "output_type": "stream",
     "text": [
      "Epoch 1/35\n",
      "469/469 [==============================] - 4s 7ms/step - loss: 1.0992 - accuracy: 0.3311 - val_loss: 1.0986 - val_accuracy: 0.3341\n",
      "Epoch 2/35\n",
      "469/469 [==============================] - 3s 6ms/step - loss: 1.0987 - accuracy: 0.3327 - val_loss: 1.0986 - val_accuracy: 0.3336\n",
      "Epoch 3/35\n",
      "469/469 [==============================] - 3s 6ms/step - loss: 1.0986 - accuracy: 0.3348 - val_loss: 1.0987 - val_accuracy: 0.3353\n",
      "Epoch 4/35\n",
      "469/469 [==============================] - 3s 6ms/step - loss: 1.0984 - accuracy: 0.3388 - val_loss: 1.0987 - val_accuracy: 0.3333\n",
      "Epoch 5/35\n",
      "469/469 [==============================] - 3s 6ms/step - loss: 1.0978 - accuracy: 0.3473 - val_loss: 1.0984 - val_accuracy: 0.3415\n",
      "Epoch 6/35\n",
      "469/469 [==============================] - 3s 6ms/step - loss: 1.0966 - accuracy: 0.3582 - val_loss: 1.0983 - val_accuracy: 0.3441\n",
      "Epoch 7/35\n",
      "469/469 [==============================] - 3s 6ms/step - loss: 1.0947 - accuracy: 0.3656 - val_loss: 1.1009 - val_accuracy: 0.3360\n",
      "Epoch 8/35\n",
      "469/469 [==============================] - 3s 6ms/step - loss: 1.0917 - accuracy: 0.3752 - val_loss: 1.0979 - val_accuracy: 0.3506\n",
      "Epoch 9/35\n",
      "469/469 [==============================] - 3s 6ms/step - loss: 1.0880 - accuracy: 0.3866 - val_loss: 1.0984 - val_accuracy: 0.3514\n",
      "Epoch 10/35\n",
      "469/469 [==============================] - 3s 6ms/step - loss: 1.0848 - accuracy: 0.3939 - val_loss: 1.0989 - val_accuracy: 0.3577\n",
      "Epoch 11/35\n",
      "469/469 [==============================] - 3s 6ms/step - loss: 1.0799 - accuracy: 0.4036 - val_loss: 1.0972 - val_accuracy: 0.3575\n",
      "Epoch 12/35\n",
      "469/469 [==============================] - 3s 6ms/step - loss: 1.0742 - accuracy: 0.4121 - val_loss: 1.0971 - val_accuracy: 0.3656\n",
      "Epoch 13/35\n",
      "469/469 [==============================] - 3s 6ms/step - loss: 1.0659 - accuracy: 0.4199 - val_loss: 1.0918 - val_accuracy: 0.3685\n",
      "Epoch 14/35\n",
      "469/469 [==============================] - 3s 6ms/step - loss: 1.0541 - accuracy: 0.4371 - val_loss: 1.0850 - val_accuracy: 0.3781\n",
      "Epoch 15/35\n",
      "469/469 [==============================] - 3s 6ms/step - loss: 1.0396 - accuracy: 0.4553 - val_loss: 1.0755 - val_accuracy: 0.3945\n",
      "Epoch 16/35\n",
      "469/469 [==============================] - 3s 6ms/step - loss: 1.0164 - accuracy: 0.4728 - val_loss: 1.0514 - val_accuracy: 0.4125\n",
      "Epoch 17/35\n",
      "469/469 [==============================] - 3s 6ms/step - loss: 0.9784 - accuracy: 0.5024 - val_loss: 0.9976 - val_accuracy: 0.4568\n",
      "Epoch 18/35\n",
      "469/469 [==============================] - 3s 6ms/step - loss: 0.9029 - accuracy: 0.5508 - val_loss: 0.8793 - val_accuracy: 0.5311\n",
      "Epoch 19/35\n",
      "469/469 [==============================] - 3s 6ms/step - loss: 0.7737 - accuracy: 0.6130 - val_loss: 0.7100 - val_accuracy: 0.6075\n",
      "Epoch 20/35\n",
      "469/469 [==============================] - 3s 6ms/step - loss: 0.6361 - accuracy: 0.6675 - val_loss: 0.5922 - val_accuracy: 0.6429\n",
      "Epoch 21/35\n",
      "469/469 [==============================] - 3s 6ms/step - loss: 0.5594 - accuracy: 0.6906 - val_loss: 0.5483 - val_accuracy: 0.6513\n",
      "Epoch 22/35\n",
      "469/469 [==============================] - 3s 6ms/step - loss: 0.5279 - accuracy: 0.7014 - val_loss: 0.5591 - val_accuracy: 0.6477\n",
      "Epoch 23/35\n",
      "469/469 [==============================] - 3s 6ms/step - loss: 0.5070 - accuracy: 0.7112 - val_loss: 0.5229 - val_accuracy: 0.6571\n",
      "Epoch 24/35\n",
      "469/469 [==============================] - 3s 6ms/step - loss: 0.4955 - accuracy: 0.7186 - val_loss: 0.5226 - val_accuracy: 0.6591\n",
      "Epoch 25/35\n",
      "469/469 [==============================] - 3s 6ms/step - loss: 0.4916 - accuracy: 0.7215 - val_loss: 0.5123 - val_accuracy: 0.6633\n",
      "Epoch 26/35\n",
      "469/469 [==============================] - 3s 6ms/step - loss: 0.4827 - accuracy: 0.7288 - val_loss: 0.5138 - val_accuracy: 0.6640\n",
      "Epoch 27/35\n",
      "469/469 [==============================] - 3s 6ms/step - loss: 0.4760 - accuracy: 0.7351 - val_loss: 0.5888 - val_accuracy: 0.6443\n",
      "Epoch 28/35\n",
      "469/469 [==============================] - 3s 6ms/step - loss: 0.4673 - accuracy: 0.7422 - val_loss: 0.5163 - val_accuracy: 0.6581\n",
      "Epoch 29/35\n",
      "469/469 [==============================] - 3s 6ms/step - loss: 0.4624 - accuracy: 0.7496 - val_loss: 0.5407 - val_accuracy: 0.6547\n",
      "Epoch 30/35\n",
      "469/469 [==============================] - 3s 6ms/step - loss: 0.4568 - accuracy: 0.7528 - val_loss: 0.5692 - val_accuracy: 0.6491\n",
      "Epoch 31/35\n",
      "469/469 [==============================] - 3s 6ms/step - loss: 0.4498 - accuracy: 0.7577 - val_loss: 0.5330 - val_accuracy: 0.6620\n",
      "Epoch 32/35\n",
      "469/469 [==============================] - 3s 6ms/step - loss: 0.4416 - accuracy: 0.7649 - val_loss: 0.5850 - val_accuracy: 0.6491\n",
      "Epoch 33/35\n",
      "469/469 [==============================] - 3s 6ms/step - loss: 0.4343 - accuracy: 0.7716 - val_loss: 0.5247 - val_accuracy: 0.6618\n",
      "Epoch 34/35\n",
      "469/469 [==============================] - 3s 6ms/step - loss: 0.4281 - accuracy: 0.7800 - val_loss: 0.6878 - val_accuracy: 0.6269\n",
      "Epoch 35/35\n",
      "469/469 [==============================] - 3s 6ms/step - loss: 0.4231 - accuracy: 0.7846 - val_loss: 0.5470 - val_accuracy: 0.6603\n",
      "dict_keys(['loss', 'accuracy', 'val_loss', 'val_accuracy'])\n",
      "94/94 [==============================] - 0s 2ms/step - loss: 0.5514 - accuracy: 0.6560\n"
     ]
    },
    {
     "data": {
      "image/png": "[encoded data removed]",
      "text/plain": [
       "<Figure size 640x480 with 1 Axes>"
      ]
     },
     "metadata": {},
     "output_type": "display_data"
    },
    {
     "data": {
      "image/png": "[encoded data removed]",
      "text/plain": [
       "<Figure size 640x480 with 1 Axes>"
      ]
     },
     "metadata": {},
     "output_type": "display_data"
    }
   ],
   "source": [
    "### CNN\n",
    "\n",
    "model = keras.Sequential()\n",
    "model.add(layers.Conv2D(64, kernel_size=(3, 3),padding = \"same\", activation=\"relu\", input_shape=(10,20,1)))\n",
    "model.add(layers.Conv2D(256, kernel_size=(3, 3), activation=\"relu\"))\n",
    "model.add(layers.MaxPooling2D(pool_size=(2, 2)))\n",
    "model.add(layers.Dropout(0.2))\n",
    "model.add(layers.Flatten())\n",
    "model.add(layers.Dense(256, activation=\"relu\"))\n",
    "model.add(layers.Dropout(0.2))\n",
    "model.add(layers.Dense(128, activation=\"relu\"))\n",
    "model.add(layers.Dropout(0.1))\n",
    "model.add(layers.Dense(3, activation=\"softmax\"))\n",
    "\n",
    "\n",
    "optimizer = keras.optimizers.Adam(learning_rate=0.0001,\n",
    "    beta_1=0.8,\n",
    "    beta_2=0.88,\n",
    "    #momentum=0.4,\n",
    "    epsilon=1e-07,)\n",
    "\n",
    "# Compile the model\n",
    "model.compile(optimizer=optimizer, loss=\"categorical_crossentropy\", metrics=[\"accuracy\"])\n",
    "\n",
    "# Train the model\n",
    "es = EarlyStopping(monitor='val_accuracy', patience=10, verbose=1)\n",
    "history = model.fit(inDa_trn, ouLa_trn, batch_size=96, epochs=35,validation_data=(inDa_tst, ouLa_tst), callbacks=[es] )\n",
    "print(history.history.keys())\n",
    "\n",
    "# Evaluate the model on the test set\n",
    "loss, accuracy = model.evaluate(inDa_val, ouLa_val)\n",
    "# print(\"Test Loss:\", loss)\n",
    "# print(\"Test Accuracy:\", accuracy)\n",
    "\n",
    "# summarize history for accuracy\n",
    "plt.plot(history.history['accuracy'])\n",
    "plt.plot(history.history['val_accuracy'])\n",
    "plt.title('model accuracy')\n",
    "plt.ylabel('accuracy')\n",
    "plt.xlabel('epoch')\n",
    "plt.legend(['train', 'test'], loc='upper left')\n",
    "plt.show()\n",
    "\n",
    "# summarize history for loss\n",
    "plt.plot(history.history['loss'])\n",
    "plt.plot(history.history['val_loss'])\n",
    "plt.title('model loss')\n",
    "plt.ylabel('loss')\n",
    "plt.xlabel('epoch')\n",
    "plt.legend(['train', 'test'], loc='upper left')\n",
    "plt.show()"
   ]
  },
  {
   "cell_type": "code",
   "execution_count": 85,
   "id": "5c9a3ef5",
   "metadata": {},
   "outputs": [],
   "source": [
    "# Making confusion matrix to find percentage of false positives an dfalse negatives\n",
    "# use of test data to make predictions based on the model fitted\n",
    "lable_predicted = model.predict(inDa_val)\n",
    "lable_predicted_categories = np.argmax(lable_predicted, axis=1)\n",
    "label_actual = np.argmax(ouLa_val, axis =1)"
   ]
  },
  {
   "cell_type": "code",
   "execution_count": 86,
   "id": "3e48db97",
   "metadata": {
    "scrolled": true
   },
   "outputs": [
    {
     "name": "stdout",
     "output_type": "stream",
     "text": [
      "[[965  22  13]\n",
      " [  7 433 560]\n",
      " [ 11 419 570]]\n"
     ]
    },
    {
     "data": {
      "text/plain": [
       "numpy.ndarray"
      ]
     },
     "execution_count": 86,
     "metadata": {},
     "output_type": "execute_result"
    }
   ],
   "source": [
    "# calculaiton of confusion matrix\\\n",
    "cm = confusion_matrix(label_actual, lable_predicted_categories)\n",
    "print(cm)\n",
    "type(cm)\n"
   ]
  },
  {
   "cell_type": "code",
   "execution_count": 87,
   "id": "b97b5b51",
   "metadata": {},
   "outputs": [
    {
     "data": {
      "text/plain": [
       "array([[0.965, 0.022, 0.013],\n",
       "       [0.007, 0.433, 0.56 ],\n",
       "       [0.011, 0.419, 0.57 ]])"
      ]
     },
     "execution_count": 87,
     "metadata": {},
     "output_type": "execute_result"
    }
   ],
   "source": [
    "# iterating through numpy array to convert the values into percentage\n",
    "\n",
    "oneD_total = np.sum(cm, axis =1)\n",
    "cm_perc = cm/oneD_total[:,np.newaxis]\n",
    "cm_perc"
   ]
  },
  {
   "cell_type": "code",
   "execution_count": 88,
   "id": "d7e238f4",
   "metadata": {},
   "outputs": [],
   "source": [
    "class_names = [0,1,2] # the vector defines three classes of selection types"
   ]
  },
  {
   "cell_type": "code",
   "execution_count": 89,
   "id": "5bd2d7b2",
   "metadata": {},
   "outputs": [
    {
     "data": {
      "image/png": "[encoded data removed]",
      "text/plain": [
       "<Figure size 800x600 with 2 Axes>"
      ]
     },
     "metadata": {},
     "output_type": "display_data"
    }
   ],
   "source": [
    "# graphical visualization of the confusion matrix in the form of heatmap\n",
    "plt.figure(figsize=(8,6))\n",
    "sns.heatmap(cm_perc,  annot=True, cmap ='Blues', xticklabels =  class_names, yticklabels = class_names)\n",
    "plt.xlabel(\"Predicted\")\n",
    "plt.ylabel(\"True\")\n",
    "plt.show()"
   ]
  },
  {
   "cell_type": "code",
   "execution_count": 65,
   "id": "8b8d49dc",
   "metadata": {},
   "outputs": [
    {
     "data": {
      "text/plain": [
       "array([ 6, 15, 24])"
      ]
     },
     "execution_count": 65,
     "metadata": {},
     "output_type": "execute_result"
    }
   ],
   "source": [
    "array_2d = np.array([[1, 2, 3],\n",
    "                     [4, 5, 6],\n",
    "                     [7, 8, 9]])\n",
    "\n",
    "# Calculate the sum of each 1D array (row)\n",
    "row_sums = np.sum(array_2d, axis=1)\n",
    "row_sums"
   ]
  }
 ],
 "metadata": {
  "kernelspec": {
   "display_name": "Python 3 (ipykernel)",
   "language": "python",
   "name": "python3"
  },
  "language_info": {
   "codemirror_mode": {
    "name": "ipython",
    "version": 3
   },
   "file_extension": ".py",
   "mimetype": "text/x-python",
   "name": "python",
   "nbconvert_exporter": "python",
   "pygments_lexer": "ipython3",
   "version": "3.9.7"
  }
 },
 "nbformat": 4,
 "nbformat_minor": 5
}
